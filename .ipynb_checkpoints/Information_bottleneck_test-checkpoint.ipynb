{
 "cells": [
  {
   "cell_type": "code",
   "execution_count": 12,
   "metadata": {},
   "outputs": [],
   "source": [
    "import InfBot as ib\n",
    "import numpy as np\n",
    "import pandas as pd\n",
    "import matplotlib.pyplot as plt"
   ]
  },
  {
   "cell_type": "markdown",
   "metadata": {},
   "source": [
    "# simple test"
   ]
  },
  {
   "cell_type": "code",
   "execution_count": null,
   "metadata": {},
   "outputs": [],
   "source": [
    "import importlib\n",
    "importlib.reload(ib)"
   ]
  },
  {
   "cell_type": "code",
   "execution_count": 473,
   "metadata": {},
   "outputs": [],
   "source": [
    "np.random.seed(42)\n",
    "X = np.random.binomial(n= 1,p=0.7,size = 1000) # random binomial\n",
    "Y = np.random.binomial(n= 1,p=0.4,size = 1000)"
   ]
  },
  {
   "cell_type": "code",
   "execution_count": 490,
   "metadata": {},
   "outputs": [],
   "source": [
    "ibtest = ib.IB(beta = 10000,check_result=True)\n",
    "ibtest.fit(X,Y)"
   ]
  },
  {
   "cell_type": "code",
   "execution_count": 491,
   "metadata": {
    "scrolled": false
   },
   "outputs": [
    {
     "data": {
      "text/plain": [
       "[0.001023479332795266, 0.0010235230834152245, 0.0010235230834152245]"
      ]
     },
     "execution_count": 491,
     "metadata": {},
     "output_type": "execute_result"
    }
   ],
   "source": [
    "ibtest.track['I_yz'][-5:]"
   ]
  },
  {
   "cell_type": "code",
   "execution_count": 492,
   "metadata": {
    "scrolled": true
   },
   "outputs": [
    {
     "data": {
      "text/plain": [
       "0.0010235230834152245"
      ]
     },
     "execution_count": 492,
     "metadata": {},
     "output_type": "execute_result"
    }
   ],
   "source": [
    "ibtest.I_xy"
   ]
  },
  {
   "cell_type": "code",
   "execution_count": 493,
   "metadata": {},
   "outputs": [],
   "source": [
    "from sklearn.metrics import mutual_info_score"
   ]
  },
  {
   "cell_type": "code",
   "execution_count": 494,
   "metadata": {},
   "outputs": [
    {
     "data": {
      "text/plain": [
       "0.0010235230834146347"
      ]
     },
     "execution_count": 494,
     "metadata": {},
     "output_type": "execute_result"
    }
   ],
   "source": [
    "mutual_info_score(X,Y)"
   ]
  },
  {
   "cell_type": "code",
   "execution_count": 495,
   "metadata": {
    "scrolled": true
   },
   "outputs": [
    {
     "data": {
      "text/plain": [
       "{'I_yz': [0.001023479332795266, 0.0010235230834152245, 0.0010235230834152245],\n",
       " 'I_xz': [0.6002507752297305, 0.6003511877776578, 0.6003511877776578]}"
      ]
     },
     "execution_count": 495,
     "metadata": {},
     "output_type": "execute_result"
    }
   ],
   "source": [
    "ibtest.track"
   ]
  },
  {
   "cell_type": "code",
   "execution_count": 496,
   "metadata": {
    "scrolled": true
   },
   "outputs": [
    {
     "data": {
      "text/plain": [
       "array([[1.00000000e+00, 1.10694457e-22],\n",
       "       [4.56446742e-22, 1.00000000e+00]])"
      ]
     },
     "execution_count": 496,
     "metadata": {},
     "output_type": "execute_result"
    }
   ],
   "source": [
    "ibtest.pz_x"
   ]
  },
  {
   "cell_type": "markdown",
   "metadata": {},
   "source": [
    "Theoretically, $I(Y,Z) = I(X,Y)$ when $\\beta \\to \\infty$ "
   ]
  },
  {
   "cell_type": "markdown",
   "metadata": {},
   "source": [
    "# With MNIST data\n",
    "\n",
    "We porcess with binarya image : pixel=0,1 if there is no pixel used"
   ]
  },
  {
   "cell_type": "code",
   "execution_count": 510,
   "metadata": {},
   "outputs": [],
   "source": [
    "# data (MNIST)\n",
    "from sklearn.datasets import load_digits\n",
    "X, y = load_digits(return_X_y=True)"
   ]
  },
  {
   "cell_type": "code",
   "execution_count": 513,
   "metadata": {},
   "outputs": [],
   "source": [
    "X_proc = np.where(X>5,1,0)"
   ]
  },
  {
   "cell_type": "code",
   "execution_count": 525,
   "metadata": {},
   "outputs": [
    {
     "data": {
      "image/png": "[encoded data removed]",
      "text/plain": [
       "<Figure size 432x288 with 1 Axes>"
      ]
     },
     "metadata": {
      "needs_background": "light"
     },
     "output_type": "display_data"
    },
    {
     "data": {
      "image/png": "[encoded data removed]",
      "text/plain": [
       "<Figure size 432x288 with 1 Axes>"
      ]
     },
     "metadata": {
      "needs_background": "light"
     },
     "output_type": "display_data"
    }
   ],
   "source": [
    "im_num = 0\n",
    "plt.imshow(X[im_num].reshape((8,8)))\n",
    "plt.show()\n",
    "plt.imshow(X_proc[im_num].reshape((8,8)))\n",
    "plt.show()"
   ]
  },
  {
   "cell_type": "code",
   "execution_count": 566,
   "metadata": {},
   "outputs": [],
   "source": [
    "x_data =[]\n",
    "y_data = []\n",
    "for i,image in enumerate(X_proc):\n",
    "    for j,pixel in enumerate(image):\n",
    "        if pixel!=0:\n",
    "            x_data.append(j)\n",
    "            y_data.append(y[i])"
   ]
  },
  {
   "cell_type": "code",
   "execution_count": 567,
   "metadata": {},
   "outputs": [],
   "source": [
    "y_data = np.array(y_data)\n",
    "x_data = np.array(x_data)"
   ]
  },
  {
   "cell_type": "code",
   "execution_count": 568,
   "metadata": {
    "scrolled": true
   },
   "outputs": [
    {
     "data": {
      "text/plain": [
       "<module 'InfBot' from '/home/sunghyuk/Python/GitHub/Information Bottleneck/InfBot.py'>"
      ]
     },
     "execution_count": 568,
     "metadata": {},
     "output_type": "execute_result"
    }
   ],
   "source": [
    "import importlib\n",
    "importlib.reload(ib)"
   ]
  },
  {
   "cell_type": "code",
   "execution_count": 577,
   "metadata": {
    "scrolled": false
   },
   "outputs": [],
   "source": [
    "ib_mnist = ib.IB(beta=1000,dim_hidden=7,seed=42,check_result=True)\n",
    "ib_mnist.fit(x_data,y_data)"
   ]
  },
  {
   "cell_type": "code",
   "execution_count": 578,
   "metadata": {},
   "outputs": [
    {
     "data": {
      "text/plain": [
       "array([[0.00000000e+00, 0.00000000e+00, 0.00000000e+00, 2.36200014e-05,\n",
       "        0.00000000e+00, 1.41720009e-04, 0.00000000e+00, 2.36200014e-05,\n",
       "        0.00000000e+00, 0.00000000e+00],\n",
       "       [1.18100007e-03, 7.08600043e-04, 3.35404020e-03, 3.44852021e-03,\n",
       "        4.72400028e-05, 3.68472022e-03, 1.41720009e-04, 1.67702010e-03,\n",
       "        1.46444009e-03, 2.19666013e-03],\n",
       "       [4.18074025e-03, 2.95250018e-03, 3.99178024e-03, 4.32246026e-03,\n",
       "        2.43286015e-03, 4.25160026e-03, 4.08626025e-03, 4.13350025e-03,\n",
       "        3.89730023e-03, 3.75558023e-03],\n",
       "       [3.89730023e-03, 3.51938021e-03, 3.07060018e-03, 4.25160026e-03,\n",
       "        3.87368023e-03, 4.22798025e-03, 3.16508019e-03, 4.08626025e-03,\n",
       "        3.82644023e-03, 3.87368023e-03],\n",
       "       [8.03080048e-04, 2.03132012e-03, 6.84980041e-04, 2.71630016e-03,\n",
       "        6.37740038e-04, 3.89730023e-03, 4.72400028e-04, 3.28318020e-03,\n",
       "        2.05494012e-03, 1.98408012e-03],\n",
       "       [0.00000000e+00, 3.30680020e-04, 0.00000000e+00, 1.65340010e-04,\n",
       "        9.44800057e-05, 1.41720009e-03, 0.00000000e+00, 1.65340010e-03,\n",
       "        0.00000000e+00, 4.96020030e-04],\n",
       "       [0.00000000e+00, 0.00000000e+00, 0.00000000e+00, 0.00000000e+00,\n",
       "        4.72400028e-05, 0.00000000e+00, 0.00000000e+00, 3.30680020e-04,\n",
       "        0.00000000e+00, 2.36200014e-05],\n",
       "       [9.44800057e-05, 0.00000000e+00, 2.00770012e-03, 1.53530009e-03,\n",
       "        0.00000000e+00, 1.22824007e-03, 0.00000000e+00, 2.12580013e-04,\n",
       "        4.72400028e-04, 7.79460047e-04],\n",
       "       [3.99178024e-03, 1.39358008e-03, 3.94454024e-03, 4.10988025e-03,\n",
       "        1.06290006e-03, 4.27522026e-03, 2.85802017e-03, 3.73196022e-03,\n",
       "        3.68472022e-03, 3.87368023e-03],\n",
       "       [4.08626025e-03, 3.63748022e-03, 4.08626025e-03, 3.47214021e-03,\n",
       "        4.13350025e-03, 3.99178024e-03, 4.27522026e-03, 3.99178024e-03,\n",
       "        3.59024022e-03, 3.30680020e-03],\n",
       "       [3.80282023e-03, 3.87368023e-03, 3.92092024e-03, 3.89730023e-03,\n",
       "        2.69268016e-03, 3.23594019e-03, 2.31476014e-03, 3.87368023e-03,\n",
       "        3.09422019e-03, 3.49576021e-03],\n",
       "       [3.87368023e-03, 2.57458015e-03, 1.77150011e-03, 3.73196022e-03,\n",
       "        6.14120037e-04, 2.22028013e-03, 1.41720009e-04, 3.77920023e-03,\n",
       "        3.59024022e-03, 3.68472022e-03],\n",
       "       [1.88960011e-04, 3.54300021e-04, 9.44800057e-05, 6.84980041e-04,\n",
       "        3.54300021e-04, 5.43260033e-04, 0.00000000e+00, 1.74788010e-03,\n",
       "        8.03080048e-04, 8.26700050e-04],\n",
       "       [0.00000000e+00, 0.00000000e+00, 0.00000000e+00, 0.00000000e+00,\n",
       "        1.18100007e-04, 0.00000000e+00, 0.00000000e+00, 1.88960011e-04,\n",
       "        0.00000000e+00, 2.36200014e-05],\n",
       "       [9.92040060e-04, 2.59820016e-04, 1.62978010e-03, 6.37740038e-04,\n",
       "        1.65340010e-04, 1.86598011e-03, 0.00000000e+00, 1.88960011e-04,\n",
       "        1.13376007e-03, 1.32272008e-03],\n",
       "       [4.10988025e-03, 2.33838014e-03, 2.95250018e-03, 1.27548008e-03,\n",
       "        3.42490021e-03, 4.27522026e-03, 3.92092024e-03, 1.53530009e-03,\n",
       "        3.61386022e-03, 4.03902024e-03],\n",
       "       [1.74788010e-03, 4.27522026e-03, 1.44082009e-03, 9.21180055e-04,\n",
       "        3.80282023e-03, 1.98408012e-03, 3.18870019e-03, 8.03080048e-04,\n",
       "        2.38562014e-03, 1.96046012e-03],\n",
       "       [6.37740038e-04, 3.99178024e-03, 3.54300021e-03, 3.89730023e-03,\n",
       "        1.48806009e-03, 5.43260033e-04, 2.36200014e-04, 2.36200014e-03,\n",
       "        2.57458015e-03, 2.90526017e-03],\n",
       "       [3.99178024e-03, 2.36200014e-03, 1.93684012e-03, 3.35404020e-03,\n",
       "        1.93684012e-03, 1.88960011e-04, 2.36200014e-05, 3.75558023e-03,\n",
       "        3.82644023e-03, 4.18074025e-03],\n",
       "       [1.03928006e-03, 2.12580013e-04, 1.18100007e-04, 2.12580013e-04,\n",
       "        1.18100007e-03, 0.00000000e+00, 0.00000000e+00, 1.06290006e-03,\n",
       "        5.43260033e-04, 8.97560054e-04],\n",
       "       [0.00000000e+00, 0.00000000e+00, 0.00000000e+00, 0.00000000e+00,\n",
       "        4.72400028e-05, 0.00000000e+00, 0.00000000e+00, 0.00000000e+00,\n",
       "        0.00000000e+00, 0.00000000e+00],\n",
       "       [1.91322011e-03, 6.37740038e-04, 1.88960011e-04, 1.41720009e-04,\n",
       "        1.72426010e-03, 1.88960011e-03, 4.96020030e-04, 1.18100007e-04,\n",
       "        2.36200014e-04, 4.25160026e-04],\n",
       "       [4.10988025e-03, 3.07060018e-03, 5.43260033e-04, 3.30680020e-04,\n",
       "        4.22798025e-03, 4.18074025e-03, 4.20436025e-03, 1.39358008e-03,\n",
       "        2.69268016e-03, 3.33042020e-03],\n",
       "       [6.61360040e-04, 4.06264024e-03, 1.62978010e-03, 2.95250018e-03,\n",
       "        2.14942013e-03, 3.92092024e-03, 2.78716017e-03, 2.10218013e-03,\n",
       "        3.96816024e-03, 3.89730023e-03],\n",
       "       [0.00000000e+00, 4.08626025e-03, 3.77920023e-03, 4.22798025e-03,\n",
       "        2.29114014e-03, 2.97612018e-03, 1.18100007e-03, 3.80282023e-03,\n",
       "        3.92092024e-03, 4.13350025e-03],\n",
       "       [3.44852021e-03, 1.91322011e-03, 1.46444009e-03, 2.03132012e-03,\n",
       "        3.42490021e-03, 1.46444009e-03, 5.66880034e-04, 3.80282023e-03,\n",
       "        2.26752014e-03, 4.08626025e-03],\n",
       "       [2.78716017e-03, 7.08600043e-05, 9.44800057e-05, 0.00000000e+00,\n",
       "        2.31476014e-03, 4.72400028e-05, 0.00000000e+00, 1.74788010e-03,\n",
       "        7.08600043e-05, 1.29910008e-03],\n",
       "       [2.26752014e-03, 3.07060018e-04, 0.00000000e+00, 0.00000000e+00,\n",
       "        3.33042020e-03, 4.96020030e-04, 1.15738007e-03, 3.77920023e-04,\n",
       "        7.08600043e-05, 0.00000000e+00],\n",
       "       [4.01540024e-03, 2.24390013e-03, 3.54300021e-04, 3.54300021e-04,\n",
       "        4.22798025e-03, 2.66906016e-03, 4.25160026e-03, 2.95250018e-03,\n",
       "        2.29114014e-03, 9.21180055e-04],\n",
       "       [2.12580013e-04, 3.61386022e-03, 2.76354017e-03, 1.79512011e-03,\n",
       "        3.21232019e-03, 2.71630016e-03, 3.94454024e-03, 3.87368023e-03,\n",
       "        4.06264024e-03, 1.79512011e-03],\n",
       "       [0.00000000e+00, 4.08626025e-03, 3.44852021e-03, 3.96816024e-03,\n",
       "        3.99178024e-03, 2.97612018e-03, 3.80282023e-03, 4.18074025e-03,\n",
       "        3.87368023e-03, 1.67702010e-03],\n",
       "       [3.23594019e-03, 1.88960011e-03, 8.03080048e-04, 3.56662021e-03,\n",
       "        4.10988025e-03, 2.55096015e-03, 3.40128020e-03, 3.59024022e-03,\n",
       "        1.44082009e-03, 3.89730023e-03],\n",
       "       [3.18870019e-03, 7.08600043e-05, 0.00000000e+00, 6.14120037e-04,\n",
       "        2.07856012e-03, 7.32220044e-04, 7.32220044e-04, 1.70064010e-03,\n",
       "        0.00000000e+00, 1.93684012e-03],\n",
       "       [8.03080048e-04, 4.72400028e-05, 1.88960011e-04, 1.18100007e-04,\n",
       "        2.31476014e-03, 4.72400028e-05, 1.88960011e-04, 2.83440017e-04,\n",
       "        2.36200014e-04, 4.72400028e-05],\n",
       "       [4.18074025e-03, 1.67702010e-03, 1.72426010e-03, 4.48780027e-04,\n",
       "        3.37766020e-03, 4.01540024e-04, 4.27522026e-03, 1.77150011e-03,\n",
       "        3.30680020e-03, 7.08600043e-05],\n",
       "       [4.48780027e-04, 3.02336018e-03, 3.73196022e-03, 2.59820016e-04,\n",
       "        3.87368023e-03, 1.22824007e-03, 3.59024022e-03, 3.66110022e-03,\n",
       "        2.88164017e-03, 1.65340010e-04],\n",
       "       [3.77920023e-04, 4.10988025e-03, 2.38562014e-03, 1.41720009e-03,\n",
       "        4.18074025e-03, 2.45648015e-03, 1.79512011e-03, 3.56662021e-03,\n",
       "        3.09422019e-03, 7.32220044e-04],\n",
       "       [3.80282023e-03, 1.88960011e-03, 5.90500035e-04, 4.06264024e-03,\n",
       "        3.49576021e-03, 2.76354017e-03, 3.51938021e-03, 1.32272008e-03,\n",
       "        2.76354017e-03, 3.37766020e-03],\n",
       "       [2.26752014e-03, 7.08600043e-05, 2.36200014e-04, 2.69268016e-03,\n",
       "        2.36200014e-04, 9.44800057e-04, 3.59024022e-03, 0.00000000e+00,\n",
       "        3.30680020e-04, 2.31476014e-03],\n",
       "       [0.00000000e+00, 0.00000000e+00, 0.00000000e+00, 0.00000000e+00,\n",
       "        0.00000000e+00, 0.00000000e+00, 4.72400028e-05, 0.00000000e+00,\n",
       "        0.00000000e+00, 0.00000000e+00],\n",
       "       [0.00000000e+00, 0.00000000e+00, 0.00000000e+00, 0.00000000e+00,\n",
       "        2.36200014e-05, 0.00000000e+00, 0.00000000e+00, 0.00000000e+00,\n",
       "        0.00000000e+00, 0.00000000e+00],\n",
       "       [2.36200014e-05, 0.00000000e+00, 2.83440017e-04, 1.41720009e-04,\n",
       "        2.12580013e-04, 1.41720009e-04, 0.00000000e+00, 0.00000000e+00,\n",
       "        1.65340010e-04, 1.41720009e-04],\n",
       "       [4.13350025e-03, 1.74788010e-03, 3.51938021e-03, 2.36200014e-03,\n",
       "        9.21180055e-04, 2.00770012e-03, 4.03902024e-03, 1.06290006e-03,\n",
       "        3.54300021e-03, 1.98408012e-03],\n",
       "       [3.49576021e-03, 3.28318020e-03, 4.08626025e-03, 2.33838014e-03,\n",
       "        2.76354017e-03, 2.76354017e-03, 4.18074025e-03, 3.92092024e-03,\n",
       "        2.71630016e-03, 1.84236011e-03],\n",
       "       [3.56662021e-03, 4.15712025e-03, 3.92092024e-03, 2.90526017e-03,\n",
       "        4.06264024e-03, 3.61386022e-03, 1.67702010e-03, 1.98408012e-03,\n",
       "        2.57458015e-03, 1.98408012e-03],\n",
       "       [4.06264024e-03, 2.45648015e-03, 3.54300021e-03, 3.94454024e-03,\n",
       "        1.36996008e-03, 2.48010015e-03, 3.68472022e-03, 2.36200014e-05,\n",
       "        2.99974018e-03, 3.47214021e-03],\n",
       "       [6.37740038e-04, 7.32220044e-04, 2.33838014e-03, 2.33838014e-03,\n",
       "        0.00000000e+00, 4.48780027e-04, 3.61386022e-03, 0.00000000e+00,\n",
       "        8.26700050e-04, 1.84236011e-03],\n",
       "       [0.00000000e+00, 1.41720009e-04, 9.44800057e-05, 0.00000000e+00,\n",
       "        0.00000000e+00, 0.00000000e+00, 1.41720009e-04, 0.00000000e+00,\n",
       "        0.00000000e+00, 0.00000000e+00],\n",
       "       [0.00000000e+00, 0.00000000e+00, 9.44800057e-05, 0.00000000e+00,\n",
       "        0.00000000e+00, 7.08600043e-05, 0.00000000e+00, 2.36200014e-05,\n",
       "        0.00000000e+00, 0.00000000e+00],\n",
       "       [1.27548008e-03, 7.08600043e-04, 3.33042020e-03, 3.30680020e-03,\n",
       "        1.18100007e-04, 3.73196022e-03, 9.44800057e-05, 2.24390013e-03,\n",
       "        1.58254009e-03, 2.19666013e-03],\n",
       "       [4.20436025e-03, 2.92888018e-03, 3.96816024e-03, 4.32246026e-03,\n",
       "        2.59820016e-03, 4.27522026e-03, 4.06264024e-03, 3.75558023e-03,\n",
       "        3.87368023e-03, 3.77920023e-03],\n",
       "       [4.10988025e-03, 4.08626025e-03, 4.13350025e-03, 4.18074025e-03,\n",
       "        3.75558023e-03, 3.09422019e-03, 4.27522026e-03, 6.84980041e-04,\n",
       "        3.94454024e-03, 3.89730023e-03],\n",
       "       [1.77150011e-03, 2.71630016e-03, 3.70834022e-03, 3.21232019e-03,\n",
       "        6.84980041e-04, 7.08600043e-04, 4.18074025e-03, 0.00000000e+00,\n",
       "        2.22028013e-03, 2.99974018e-03],\n",
       "       [2.36200014e-05, 9.21180055e-04, 2.48010015e-03, 3.30680020e-04,\n",
       "        0.00000000e+00, 2.36200014e-05, 1.48806009e-03, 0.00000000e+00,\n",
       "        3.30680020e-04, 7.08600043e-04],\n",
       "       [0.00000000e+00, 4.72400028e-04, 6.61360040e-04, 2.36200014e-05,\n",
       "        0.00000000e+00, 0.00000000e+00, 2.36200014e-05, 0.00000000e+00,\n",
       "        0.00000000e+00, 0.00000000e+00]])"
      ]
     },
     "execution_count": 578,
     "metadata": {},
     "output_type": "execute_result"
    }
   ],
   "source": [
    "ib_mnist.pxy"
   ]
  },
  {
   "cell_type": "code",
   "execution_count": 579,
   "metadata": {},
   "outputs": [
    {
     "data": {
      "text/plain": [
       "[0.00032724777137768636,\n",
       " 0.0009354983040894529,\n",
       " 0.0009621415810132183,\n",
       " 0.0009621444951794174,\n",
       " 0.0009621442611846076,\n",
       " 0.0009621442073035877,\n",
       " 0.0009621441928126689,\n",
       " 0.0009621441885538607,\n",
       " 0.0009621441872625758,\n",
       " 0.0009621441868670948,\n",
       " 0.0009621441867456359,\n",
       " 0.0009621441867082372,\n",
       " 0.0009621441866967701,\n",
       " 0.0009621441866932278]"
      ]
     },
     "execution_count": 579,
     "metadata": {},
     "output_type": "execute_result"
    }
   ],
   "source": [
    "ib_mnist.track['I_yz']"
   ]
  },
  {
   "cell_type": "code",
   "execution_count": 580,
   "metadata": {
    "scrolled": true
   },
   "outputs": [
    {
     "data": {
      "text/plain": [
       "array([[0.11066085, 0.10312502, 0.11118784, 0.10594071, 0.10594071,\n",
       "        0.11066085, 0.10594071],\n",
       "       [0.07761846, 0.09312501, 0.11325966, 0.09430636, 0.09430636,\n",
       "        0.07761846, 0.09430636],\n",
       "       [0.10504987, 0.08125014, 0.11464087, 0.10594314, 0.10594314,\n",
       "        0.10504987, 0.10594314],\n",
       "       [0.11408977, 0.11249988, 0.11395028, 0.09001641, 0.09001641,\n",
       "        0.11408977, 0.09001641],\n",
       "       [0.06639651, 0.10250001, 0.07872929, 0.10716205, 0.10716205,\n",
       "        0.06639651, 0.10716205],\n",
       "       [0.11253117, 0.11187495, 0.09461327, 0.10348845, 0.10348845,\n",
       "        0.11253117, 0.10348845],\n",
       "       [0.10754364, 0.08375014, 0.06767956, 0.11084182, 0.11084182,\n",
       "        0.10754364, 0.11084182],\n",
       "       [0.10411472, 0.10812498, 0.11325967, 0.10349349, 0.10349349,\n",
       "        0.10411472, 0.10349349],\n",
       "       [0.10255611, 0.10124996, 0.09046962, 0.09307938, 0.09307938,\n",
       "        0.10255611, 0.09307938],\n",
       "       [0.0994389 , 0.10249991, 0.10220994, 0.08572819, 0.08572819,\n",
       "        0.0994389 , 0.08572819]])"
      ]
     },
     "execution_count": 580,
     "metadata": {},
     "output_type": "execute_result"
    }
   ],
   "source": [
    "ib_mnist.py_z"
   ]
  },
  {
   "cell_type": "code",
   "execution_count": 584,
   "metadata": {},
   "outputs": [
    {
     "ename": "ValueError",
     "evalue": "operands could not be broadcast together with shapes (7,55) (7,) ",
     "output_type": "error",
     "traceback": [
      "\u001b[0;31m---------------------------------------------------------------------------\u001b[0m",
      "\u001b[0;31mValueError\u001b[0m                                Traceback (most recent call last)",
      "\u001b[0;32m<ipython-input-584-ae51f290473b>\u001b[0m in \u001b[0;36m<module>\u001b[0;34m\u001b[0m\n\u001b[0;32m----> 1\u001b[0;31m \u001b[0mib_mnist\u001b[0m\u001b[0;34m.\u001b[0m\u001b[0mpz_x\u001b[0m \u001b[0;34m*\u001b[0m \u001b[0mib_mnist\u001b[0m\u001b[0;34m.\u001b[0m\u001b[0mpx\u001b[0m \u001b[0;34m/\u001b[0m \u001b[0mib_mnist\u001b[0m\u001b[0;34m.\u001b[0m\u001b[0mpz\u001b[0m\u001b[0;34m\u001b[0m\u001b[0;34m\u001b[0m\u001b[0m\n\u001b[0m",
      "\u001b[0;31mValueError\u001b[0m: operands could not be broadcast together with shapes (7,55) (7,) "
     ]
    }
   ],
   "source": [
    "ib_mnistp.pz\n",
    "ib_mnist.pz_x * ib_mnist.px / ib_mnist.pz"
   ]
  },
  {
   "cell_type": "code",
   "execution_count": 14,
   "metadata": {
    "scrolled": true
   },
   "outputs": [],
   "source": [
    "# from sklearn.preprocessing import KBinsDiscretizer as kbd\n",
    "# from scipy.sparse import csr_matrix\n",
    "# X_bined = kbd(n_bins=10,strategy='quantile',encode='ordinal').fit_transform(X)"
   ]
  },
  {
   "cell_type": "markdown",
   "metadata": {},
   "source": [
    "# With Gaussian data"
   ]
  },
  {
   "cell_type": "code",
   "execution_count": 4,
   "metadata": {},
   "outputs": [],
   "source": [
    "x_norm = np.random.normal(0,1,y.shape[0])"
   ]
  },
  {
   "cell_type": "code",
   "execution_count": 5,
   "metadata": {},
   "outputs": [],
   "source": [
    "x_norm_bined = kbd(encode='ordinal',strategy='uniform').fit_transform(x_norm.reshape((-1,1)))\n",
    "x_norm_bined = x_norm_bined.reshape(-1)"
   ]
  },
  {
   "cell_type": "code",
   "execution_count": 6,
   "metadata": {
    "scrolled": true
   },
   "outputs": [
    {
     "data": {
      "text/plain": [
       "(array([ 33.,   0., 411.,   0.,   0., 968.,   0., 363.,   0.,  22.]),\n",
       " array([0. , 0.4, 0.8, 1.2, 1.6, 2. , 2.4, 2.8, 3.2, 3.6, 4. ]),\n",
       " <a list of 10 Patch objects>)"
      ]
     },
     "execution_count": 6,
     "metadata": {},
     "output_type": "execute_result"
    },
    {
     "data": {
      "image/png": "[encoded data removed]",
      "text/plain": [
       "<Figure size 432x288 with 1 Axes>"
      ]
     },
     "metadata": {
      "needs_background": "light"
     },
     "output_type": "display_data"
    }
   ],
   "source": [
    "plt.hist(x_norm_bined)"
   ]
  }
 ],
 "metadata": {
  "kernelspec": {
   "display_name": "venvbook",
   "language": "python",
   "name": "venvbook"
  },
  "language_info": {
   "codemirror_mode": {
    "name": "ipython",
    "version": 3
   },
   "file_extension": ".py",
   "mimetype": "text/x-python",
   "name": "python",
   "nbconvert_exporter": "python",
   "pygments_lexer": "ipython3",
   "version": "3.6.9"
  }
 },
 "nbformat": 4,
 "nbformat_minor": 2
}
